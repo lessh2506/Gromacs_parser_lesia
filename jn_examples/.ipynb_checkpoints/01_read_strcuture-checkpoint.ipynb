{
 "cells": [
  {
   "cell_type": "code",
   "execution_count": 2,
   "metadata": {},
   "outputs": [],
   "source": [
    "import sys\n",
    "sys.path.append('..')\n",
    "from gromacs_parser import gromacs_parser\n"
   ]
  },
  {
   "cell_type": "code",
   "execution_count": 3,
   "metadata": {},
   "outputs": [
    {
     "ename": "AttributeError",
     "evalue": "module 'gromacs_parser.gromacs_parser' has no attribute 'ReadStructure'",
     "output_type": "error",
     "traceback": [
      "\u001b[0;31m---------------------------------------------------------------------------\u001b[0m",
      "\u001b[0;31mAttributeError\u001b[0m                            Traceback (most recent call last)",
      "Cell \u001b[0;32mIn[3], line 2\u001b[0m\n\u001b[1;32m      1\u001b[0m strcuture_path \u001b[38;5;241m=\u001b[39m \u001b[38;5;124m'\u001b[39m\u001b[38;5;124m../examples/02_1bm0/1bm0.pdb\u001b[39m\u001b[38;5;124m'\u001b[39m\n\u001b[0;32m----> 2\u001b[0m protein_structure \u001b[38;5;241m=\u001b[39m gromacs_parser\u001b[38;5;241m.\u001b[39mReadStructure(strcuture_path)\n",
      "\u001b[0;31mAttributeError\u001b[0m: module 'gromacs_parser.gromacs_parser' has no attribute 'ReadStructure'"
     ]
    }
   ],
   "source": [
    "strcuture_path = '../examples/02_1bm0/1bm0.pdb'\n",
    "protein_structure = gromacs_parser.ReadStructure(strcuture_path)"
   ]
  },
  {
   "cell_type": "code",
   "execution_count": null,
   "metadata": {},
   "outputs": [],
   "source": []
  }
 ],
 "metadata": {
  "kernelspec": {
   "display_name": "Python 3 (ipykernel)",
   "language": "python",
   "name": "python3"
  },
  "language_info": {
   "codemirror_mode": {
    "name": "ipython",
    "version": 3
   },
   "file_extension": ".py",
   "mimetype": "text/x-python",
   "name": "python",
   "nbconvert_exporter": "python",
   "pygments_lexer": "ipython3",
   "version": "3.11.8"
  }
 },
 "nbformat": 4,
 "nbformat_minor": 4
}
