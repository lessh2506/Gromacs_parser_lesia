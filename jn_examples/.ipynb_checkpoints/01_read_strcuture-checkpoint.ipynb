{
 "cells": [
  {
   "cell_type": "code",
   "execution_count": 5,
   "metadata": {},
   "outputs": [],
   "source": [
    "import sys\n",
    "sys.path.append('..')\n",
    "\n",
    "from gromacs_parser import gromacs_parser\n",
    "\n",
    "\n"
   ]
  },
  {
   "cell_type": "markdown",
   "metadata": {},
   "source": [
    "**Parse structure from pdb file**"
   ]
  },
  {
   "cell_type": "code",
   "execution_count": 6,
   "metadata": {},
   "outputs": [],
   "source": [
    "structure_path = '../examples/02_1bm0/1bm0.pdb'\n",
    "structure1 = gromacs_parser.StructureRead(structure_path)\n"
   ]
  },
  {
   "cell_type": "markdown",
   "metadata": {},
   "source": [
    "**Show list of atom from pdb file**"
   ]
  },
  {
   "cell_type": "code",
   "execution_count": 7,
   "metadata": {},
   "outputs": [],
   "source": [
    "structure_list = structure1.read_pdb()"
   ]
  },
  {
   "cell_type": "markdown",
   "metadata": {},
   "source": [
    "**Display some basic information**"
   ]
  },
  {
   "cell_type": "code",
   "execution_count": 13,
   "metadata": {},
   "outputs": [
    {
     "name": "stdout",
     "output_type": "stream",
     "text": [
      "Number of atoms: 9202\n",
      "First atom: Chain ID: A, Residue Name: SER, Residue Number: 5, Atom Name: N\n"
     ]
    }
   ],
   "source": [
    "atoms1 = gromacs_parser.Atoms(structure_list, structure1)\n",
    "print(f\"Number of atoms: {atoms1.atom_length}\")\n",
    "print(f\"First atom: {atoms1.first_atom()}\")\n"
   ]
  },
  {
   "cell_type": "code",
   "execution_count": 9,
   "metadata": {},
   "outputs": [
    {
     "ename": "AttributeError",
     "evalue": "type object 'Structure' has no attribute 'convert_to_gro_box'",
     "output_type": "error",
     "traceback": [
      "\u001b[0;31m---------------------------------------------------------------------------\u001b[0m",
      "\u001b[0;31mAttributeError\u001b[0m                            Traceback (most recent call last)",
      "Cell \u001b[0;32mIn[9], line 1\u001b[0m\n\u001b[0;32m----> 1\u001b[0m structure \u001b[38;5;241m=\u001b[39m gromacs_parser\u001b[38;5;241m.\u001b[39mStructure(structure_list)\n",
      "File \u001b[0;32m/data2/projects_students/Lesia_Sh/gromacs_parser_lesia/Gromacs_parser_lesia/jn_examples/../gromacs_parser/gromacs_parser/structure.py:6\u001b[0m, in \u001b[0;36mStructure.__init__\u001b[0;34m(self, atoms)\u001b[0m\n\u001b[1;32m      4\u001b[0m \u001b[38;5;28;01mdef\u001b[39;00m \u001b[38;5;21m__init__\u001b[39m(\u001b[38;5;28mself\u001b[39m, atoms\u001b[38;5;241m=\u001b[39m[]):\n\u001b[1;32m      5\u001b[0m     \u001b[38;5;28mself\u001b[39m\u001b[38;5;241m.\u001b[39matoms \u001b[38;5;241m=\u001b[39m Atoms(atoms,\u001b[38;5;28mself\u001b[39m)\n\u001b[0;32m----> 6\u001b[0m     \u001b[38;5;28mself\u001b[39m\u001b[38;5;241m.\u001b[39mbox_size\u001b[38;5;241m=\u001b[39mBoxSize()\n",
      "File \u001b[0;32m/data2/projects_students/Lesia_Sh/gromacs_parser_lesia/Gromacs_parser_lesia/jn_examples/../gromacs_parser/gromacs_parser/structure.py:41\u001b[0m, in \u001b[0;36mBoxSize.__init__\u001b[0;34m(self, a, b, c, alpha, beta, gamma, sGroup, z, default)\u001b[0m\n\u001b[1;32m     39\u001b[0m \u001b[38;5;28mself\u001b[39m\u001b[38;5;241m.\u001b[39msGroup \u001b[38;5;241m=\u001b[39m sGroup\n\u001b[1;32m     40\u001b[0m \u001b[38;5;28mself\u001b[39m\u001b[38;5;241m.\u001b[39mz \u001b[38;5;241m=\u001b[39m z\n\u001b[0;32m---> 41\u001b[0m \u001b[38;5;28mself\u001b[39m\u001b[38;5;241m.\u001b[39mv1, \u001b[38;5;28mself\u001b[39m\u001b[38;5;241m.\u001b[39mv2, \u001b[38;5;28mself\u001b[39m\u001b[38;5;241m.\u001b[39mv3, \u001b[38;5;28mself\u001b[39m\u001b[38;5;241m.\u001b[39mv4, \u001b[38;5;28mself\u001b[39m\u001b[38;5;241m.\u001b[39mv5, \u001b[38;5;28mself\u001b[39m\u001b[38;5;241m.\u001b[39mv6 \u001b[38;5;241m=\u001b[39m Structure\u001b[38;5;241m.\u001b[39mconvert_to_gro_box(a, b, c, alpha, beta, gamma)\n\u001b[1;32m     42\u001b[0m \u001b[38;5;28mself\u001b[39m\u001b[38;5;241m.\u001b[39mdefault \u001b[38;5;241m=\u001b[39m default\n",
      "\u001b[0;31mAttributeError\u001b[0m: type object 'Structure' has no attribute 'convert_to_gro_box'"
     ]
    }
   ],
   "source": []
  },
  {
   "cell_type": "code",
   "execution_count": null,
   "metadata": {},
   "outputs": [],
   "source": []
  },
  {
   "cell_type": "markdown",
   "metadata": {},
   "source": [
    "**Visualize the structure**"
   ]
  },
  {
   "cell_type": "code",
   "execution_count": 14,
   "metadata": {},
   "outputs": [
    {
     "ename": "ModuleNotFoundError",
     "evalue": "No module named 'nglview'",
     "output_type": "error",
     "traceback": [
      "\u001b[0;31m---------------------------------------------------------------------------\u001b[0m",
      "\u001b[0;31mModuleNotFoundError\u001b[0m                       Traceback (most recent call last)",
      "Cell \u001b[0;32mIn[14], line 1\u001b[0m\n\u001b[0;32m----> 1\u001b[0m view \u001b[38;5;241m=\u001b[39m atoms1\u001b[38;5;241m.\u001b[39mshow(cartoon\u001b[38;5;241m=\u001b[39m\u001b[38;5;28;01mTrue\u001b[39;00m, sticks\u001b[38;5;241m=\u001b[39m\u001b[38;5;28;01mTrue\u001b[39;00m)\n\u001b[1;32m      2\u001b[0m view\n",
      "File \u001b[0;32m/data2/projects_students/Lesia_Sh/gromacs_parser_lesia/Gromacs_parser_lesia/jn_examples/../gromacs_parser/gromacs_parser/structure_read.py:52\u001b[0m, in \u001b[0;36mAtoms.show\u001b[0;34m(self, cartoon, sticks, highlight_atoms)\u001b[0m\n\u001b[1;32m     51\u001b[0m \u001b[38;5;28;01mdef\u001b[39;00m \u001b[38;5;21mshow\u001b[39m(\u001b[38;5;28mself\u001b[39m, cartoon\u001b[38;5;241m=\u001b[39m\u001b[38;5;28;01mTrue\u001b[39;00m, sticks\u001b[38;5;241m=\u001b[39m\u001b[38;5;28;01mFalse\u001b[39;00m, highlight_atoms\u001b[38;5;241m=\u001b[39m\u001b[38;5;28;01mNone\u001b[39;00m): \n\u001b[0;32m---> 52\u001b[0m     \u001b[38;5;28;01mimport\u001b[39;00m \u001b[38;5;21;01mnglview\u001b[39;00m \u001b[38;5;28;01mas\u001b[39;00m \u001b[38;5;21;01mnv\u001b[39;00m\n\u001b[1;32m     53\u001b[0m     pdb_content \u001b[38;5;241m=\u001b[39m \u001b[38;5;28mself\u001b[39m\u001b[38;5;241m.\u001b[39mpdb_text()\n\u001b[1;32m     57\u001b[0m     view \u001b[38;5;241m=\u001b[39m nv\u001b[38;5;241m.\u001b[39mNGLWidget()\n",
      "\u001b[0;31mModuleNotFoundError\u001b[0m: No module named 'nglview'"
     ]
    }
   ],
   "source": [
    "view = atoms1.show(cartoon=True, sticks=True)\n",
    "view"
   ]
  },
  {
   "cell_type": "markdown",
   "metadata": {},
   "source": []
  }
 ],
 "metadata": {
  "kernelspec": {
   "display_name": "Python 3 (ipykernel)",
   "language": "python",
   "name": "python3"
  },
  "language_info": {
   "codemirror_mode": {
    "name": "ipython",
    "version": 3
   },
   "file_extension": ".py",
   "mimetype": "text/x-python",
   "name": "python",
   "nbconvert_exporter": "python",
   "pygments_lexer": "ipython3",
   "version": "3.11.8"
  }
 },
 "nbformat": 4,
 "nbformat_minor": 4
}
